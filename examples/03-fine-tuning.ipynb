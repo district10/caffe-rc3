{
 "cells": [
  {
   "cell_type": "markdown",
   "metadata": {},
   "source": [
    "# Fine-tuning a Pretrained Network for Style Recognition\n",
    "\n",
    "这个讲了从 caffe 的 model zoo 拿到别人训练好了的 model，如何把它 tune 得更适合自己的情况。\n",
    "\n",
    "In this example, we'll explore a common approach that is particularly useful in real-world applications: take a pre-trained Caffe network and fine-tune the parameters on your custom data.\n",
    "\n",
    "The upside of such approach is that, since pre-trained networks are learned on a large set of images, the intermediate layers capture the \"semantics\" of the general visual appearance. Think of it as a very powerful feature that you can treat as a black box. On top of that, only a few layers will be needed to obtain a very good performance of the data."
   ]
  },
  {
   "cell_type": "markdown",
   "metadata": {},
   "source": [
    "First, we will need to prepare the data. This involves the following parts:\n",
    "(1) Get the ImageNet ilsvrc pretrained model with the provided shell scripts.\n",
    "(2) Download a subset of the overall Flickr style dataset for this demo.\n",
    "(3) Compile the downloaded Flickr dataset into a database that Caffe can then consume."
   ]
  },
  {
   "cell_type": "code",
   "execution_count": 1,
   "metadata": {
    "collapsed": false
   },
   "outputs": [
    {
     "name": "stdout",
     "output_type": "stream",
     "text": [
      "/home/tzx/dev/caffe-rc3\n"
     ]
    }
   ],
   "source": [
    "import os\n",
    "os.chdir('..')\n",
    "print os.path.realpath(os.getcwd())\n",
    "\n",
    "import sys\n",
    "sys.path.insert(0, './python')\n",
    "\n",
    "import caffe\n",
    "import numpy as np\n",
    "from pylab import *\n",
    "%matplotlib inline"
   ]
  },
  {
   "cell_type": "code",
   "execution_count": 8,
   "metadata": {
    "collapsed": false,
    "scrolled": true
   },
   "outputs": [
    {
     "name": "stdout",
     "output_type": "stream",
     "text": [
      "Copying from /home/tzx/datasets/datasets...\n",
      "Unzipping...\n",
      "total 79M\n",
      "drwxrwxr-x 2 tzx tzx 4.0K  6月 21 15:37 .\n",
      "drwxrwxr-x 6 tzx tzx 4.0K  6月 15 18:04 ..\n",
      "-rw-r--r-- 1 tzx tzx  18M  6月 21 15:37 caffe_ilsvrc12.tar.gz\n",
      "-rw-r--r-- 1 tzx tzx 3.7K  6月  9  2014 det_synset_words.txt\n",
      "-rwxrwxr-x 1 tzx tzx  593  6月 21 15:21 get_ilsvrc_aux_cvrs.sh\n",
      "-rwxrwxr-x 1 tzx tzx  585  1月 30 11:02 get_ilsvrc_aux.sh\n",
      "-rw-r--r-- 1 tzx tzx  15M  7月 12  2014 imagenet.bet.pickle\n",
      "-rw-r--r-- 1 tzx tzx  187  2月 25  2014 ._imagenet_mean.binaryproto\n",
      "-rw-r--r-- 1 tzx tzx 769K  2月 25  2014 imagenet_mean.binaryproto\n",
      "-rw-r--r-- 1 tzx tzx  187  2月 25  2014 ._synsets.txt\n",
      "-rw-r--r-- 1 tzx tzx 9.8K  2月 25  2014 synsets.txt\n",
      "-rw-r--r-- 1 tzx tzx  187  4月  9  2014 ._synset_words.txt\n",
      "-rw-r--r-- 1 tzx tzx  31K  4月  9  2014 synset_words.txt\n",
      "-rw-r--r-- 1 tzx tzx  187  2月 25  2014 ._test.txt\n",
      "-rw-r--r-- 1 tzx tzx 3.1M  2月 25  2014 test.txt\n",
      "-rw-r--r-- 1 tzx tzx  187  2月 25  2014 ._train.txt\n",
      "-rw-r--r-- 1 tzx tzx  42M  2月 25  2014 train.txt\n",
      "-rw-r--r-- 1 tzx tzx  187  2月 25  2014 ._val.txt\n",
      "-rw-r--r-- 1 tzx tzx 1.6M  2月 25  2014 val.txt\n",
      "total 62M\n",
      "drwxrwxr-x 2 tzx tzx 4.0K  6月 21 15:37 .\n",
      "drwxrwxr-x 6 tzx tzx 4.0K  6月 15 18:04 ..\n",
      "-rw-r--r-- 1 tzx tzx 3.7K  6月  9  2014 det_synset_words.txt\n",
      "-rwxrwxr-x 1 tzx tzx  593  6月 21 15:21 get_ilsvrc_aux_cvrs.sh\n",
      "-rwxrwxr-x 1 tzx tzx  585  1月 30 11:02 get_ilsvrc_aux.sh\n",
      "-rw-r--r-- 1 tzx tzx  15M  7月 12  2014 imagenet.bet.pickle\n",
      "-rw-r--r-- 1 tzx tzx  187  2月 25  2014 ._imagenet_mean.binaryproto\n",
      "-rw-r--r-- 1 tzx tzx 769K  2月 25  2014 imagenet_mean.binaryproto\n",
      "-rw-r--r-- 1 tzx tzx  187  2月 25  2014 ._synsets.txt\n",
      "-rw-r--r-- 1 tzx tzx 9.8K  2月 25  2014 synsets.txt\n",
      "-rw-r--r-- 1 tzx tzx  187  4月  9  2014 ._synset_words.txt\n",
      "-rw-r--r-- 1 tzx tzx  31K  4月  9  2014 synset_words.txt\n",
      "-rw-r--r-- 1 tzx tzx  187  2月 25  2014 ._test.txt\n",
      "-rw-r--r-- 1 tzx tzx 3.1M  2月 25  2014 test.txt\n",
      "-rw-r--r-- 1 tzx tzx  187  2月 25  2014 ._train.txt\n",
      "-rw-r--r-- 1 tzx tzx  42M  2月 25  2014 train.txt\n",
      "-rw-r--r-- 1 tzx tzx  187  2月 25  2014 ._val.txt\n",
      "-rw-r--r-- 1 tzx tzx 1.6M  2月 25  2014 val.txt\n",
      "Done.\n",
      "done get files.\n",
      "\n",
      "Model already exists.\n",
      "done get model binary.\n",
      "\n",
      "csv_filename is ' /home/tzx/dev/caffe-rc3/examples/finetune_flickr_style/flickr_style.csv.gz '\n",
      "\n",
      "Downloading 2000 images with 11 workers...\n",
      "Writing train/val for 1998 successfully downloaded images.\n",
      "done assemble.\n",
      "\n"
     ]
    }
   ],
   "source": [
    "# This downloads the ilsvrc auxiliary data (mean file, etc),\n",
    "# and a subset of 2000 images for the style recognition task.\n",
    "\n",
    "#!data/ilsvrc12/get_ilsvrc_aux.sh\n",
    "# 还是用我们已经下载好了的数据。cp 过来就好。\n",
    "!data/ilsvrc12/get_ilsvrc_aux_cvrs.sh \n",
    "print \"done get files.\\n\"\n",
    "\n",
    "# 提前解压这个文件，用【迅雷】把图片下载了直接拷贝过去。\n",
    "# examples/finetune_flickr_style/flickr_style.csv.gz\n",
    "\n",
    "# 如果图片已经存在，这个脚本不会再下载（还得通过sha1 校验）。\n",
    "!scripts/download_model_binary.py models/bvlc_reference_caffenet\n",
    "print \"done get model binary.\\n\"\n",
    "\n",
    "!python examples/finetune_flickr_style/assemble_data.py \\\n",
    "    --workers=-1 --images=2000 --seed=1701 --label=5\n",
    "print \"done assemble.\\n\""
   ]
  },
  {
   "cell_type": "markdown",
   "metadata": {},
   "source": [
    "Let's show what is the difference between the fine-tuning network and the original caffe model."
   ]
  },
  {
   "cell_type": "code",
   "execution_count": 3,
   "metadata": {
    "collapsed": false
   },
   "outputs": [
    {
     "name": "stdout",
     "output_type": "stream",
     "text": [
      "1c1\r\n",
      "< name: \"CaffeNet\"\r\n",
      "---\r\n",
      "> name: \"FlickrStyleCaffeNet\"\r\n",
      "4c4\r\n",
      "<   type: \"Data\"\r\n",
      "---\r\n",
      ">   type: \"ImageData\"\r\n",
      "15,26c15,19\r\n",
      "< # mean pixel / channel-wise mean instead of mean image\r\n",
      "< #  transform_param {\r\n",
      "< #    crop_size: 227\r\n",
      "< #    mean_value: 104\r\n",
      "< #    mean_value: 117\r\n",
      "< #    mean_value: 123\r\n",
      "< #    mirror: true\r\n",
      "< #  }\r\n",
      "<   data_param {\r\n",
      "<     source: \"examples/imagenet/ilsvrc12_train_lmdb\"\r\n",
      "<     batch_size: 256\r\n",
      "<     backend: LMDB\r\n",
      "---\r\n",
      ">   image_data_param {\r\n",
      ">     source: \"data/flickr_style/train.txt\"\r\n",
      ">     batch_size: 50\r\n",
      ">     new_height: 256\r\n",
      ">     new_width: 256\r\n",
      "31c24\r\n",
      "<   type: \"Data\"\r\n",
      "---\r\n",
      ">   type: \"ImageData\"\r\n",
      "42,51c35,36\r\n",
      "< # mean pixel / channel-wise mean instead of mean image\r\n",
      "< #  transform_param {\r\n",
      "< #    crop_size: 227\r\n",
      "< #    mean_value: 104\r\n",
      "< #    mean_value: 117\r\n",
      "< #    mean_value: 123\r\n",
      "< #    mirror: false\r\n",
      "< #  }\r\n",
      "<   data_param {\r\n",
      "<     source: \"examples/imagenet/ilsvrc12_val_lmdb\"\r\n",
      "---\r\n",
      ">   image_data_param {\r\n",
      ">     source: \"data/flickr_style/test.txt\"\r\n",
      "53c38,39\r\n",
      "<     backend: LMDB\r\n",
      "---\r\n",
      ">     new_height: 256\r\n",
      ">     new_width: 256\r\n",
      "323a310\r\n",
      ">   # Note that lr_mult can be set to 0 to disable any fine-tuning of this, and any other, layer\r\n",
      "360c347\r\n",
      "<   name: \"fc8\"\r\n",
      "---\r\n",
      ">   name: \"fc8_flickr\"\r\n",
      "363c350,351\r\n",
      "<   top: \"fc8\"\r\n",
      "---\r\n",
      ">   top: \"fc8_flickr\"\r\n",
      ">   # lr_mult is set to higher than for other layers, because this layer is starting from random while the others are already trained\r\n",
      "365c353\r\n",
      "<     lr_mult: 1\r\n",
      "---\r\n",
      ">     lr_mult: 10\r\n",
      "369c357\r\n",
      "<     lr_mult: 2\r\n",
      "---\r\n",
      ">     lr_mult: 20\r\n",
      "373c361\r\n",
      "<     num_output: 1000\r\n",
      "---\r\n",
      ">     num_output: 20\r\n",
      "387c375\r\n",
      "<   bottom: \"fc8\"\r\n",
      "---\r\n",
      ">   bottom: \"fc8_flickr\"\r\n",
      "397c385\r\n",
      "<   bottom: \"fc8\"\r\n",
      "---\r\n",
      ">   bottom: \"fc8_flickr\"\r\n"
     ]
    }
   ],
   "source": [
    "!diff models/bvlc_reference_caffenet/train_val.prototxt models/finetune_flickr_style/train_val.prototxt"
   ]
  },
  {
   "cell_type": "markdown",
   "metadata": {},
   "source": [
    "For your record, if you want to train the network in pure C++ tools, here is the command:\n",
    "\n",
    "<code>\n",
    "build/tools/caffe train \\\n",
    "    -solver models/finetune_flickr_style/solver.prototxt \\\n",
    "    -weights models/bvlc_reference_caffenet/bvlc_reference_caffenet.caffemodel \\\n",
    "    -gpu 0\n",
    "</code>\n",
    "\n",
    "However, we will train using Python in this example."
   ]
  },
  {
   "cell_type": "code",
   "execution_count": 10,
   "metadata": {
    "collapsed": false
   },
   "outputs": [
    {
     "name": "stdout",
     "output_type": "stream",
     "text": [
      "iter 0, finetune_loss=3.487237, scratch_loss=3.350521\n",
      "iter 10, finetune_loss=2.474704, scratch_loss=5.074236\n",
      "iter 20, finetune_loss=2.328866, scratch_loss=2.397179\n",
      "iter 30, finetune_loss=1.509140, scratch_loss=1.967646\n",
      "iter 40, finetune_loss=1.569238, scratch_loss=2.004106\n",
      "iter 50, finetune_loss=1.342260, scratch_loss=1.780126\n",
      "iter 60, finetune_loss=1.528000, scratch_loss=1.821887\n",
      "iter 70, finetune_loss=1.651778, scratch_loss=1.779577\n",
      "iter 80, finetune_loss=1.292771, scratch_loss=1.625286\n",
      "iter 90, finetune_loss=1.738845, scratch_loss=1.856904\n",
      "iter 100, finetune_loss=1.101822, scratch_loss=1.778781\n",
      "iter 110, finetune_loss=1.237936, scratch_loss=1.722533\n",
      "iter 120, finetune_loss=1.073700, scratch_loss=1.834855\n",
      "iter 130, finetune_loss=0.994269, scratch_loss=1.678407\n",
      "iter 140, finetune_loss=1.075016, scratch_loss=1.671051\n",
      "iter 150, finetune_loss=0.823929, scratch_loss=1.670013\n",
      "iter 160, finetune_loss=0.967891, scratch_loss=1.646255\n",
      "iter 170, finetune_loss=1.266417, scratch_loss=1.703622\n",
      "iter 180, finetune_loss=0.813805, scratch_loss=1.823906\n",
      "iter 190, finetune_loss=0.903571, scratch_loss=1.681277\n"
     ]
    }
   ],
   "source": [
    "niter = 200\n",
    "# losses will also be stored in the log\n",
    "train_loss = np.zeros(niter)\n",
    "scratch_train_loss = np.zeros(niter)\n",
    "\n",
    "caffe.set_device(0)\n",
    "caffe.set_mode_gpu()\n",
    "\n",
    "# We create a solver that fine-tunes from a previously trained network.\n",
    "solver = caffe.SGDSolver('models/finetune_flickr_style/solver.prototxt')\n",
    "# 这里把之前的模型载入了。\n",
    "solver.net.copy_from('models/bvlc_reference_caffenet/bvlc_reference_caffenet.caffemodel')\n",
    "\n",
    "# 对比这个 scratch_solver，\n",
    "# 没有载入新的模型。For reference, we also create a solver that does no finetuning.\n",
    "scratch_solver = caffe.SGDSolver('models/finetune_flickr_style/solver.prototxt')\n",
    "\n",
    "# We run the solver for niter times, and record the training loss.\n",
    "for it in range(niter):\n",
    "    solver.step(1)  # SGD by Caffe\n",
    "    scratch_solver.step(1)\n",
    "    # store the train loss\n",
    "    train_loss[it] = solver.net.blobs['loss'].data\n",
    "    scratch_train_loss[it] = scratch_solver.net.blobs['loss'].data\n",
    "    if it % 10 == 0:\n",
    "        print 'iter %d, finetune_loss=%f, scratch_loss=%f' % (it, train_loss[it], scratch_train_loss[it])"
   ]
  },
  {
   "cell_type": "markdown",
   "metadata": {},
   "source": [
    "Let's look at the training loss produced by the two training procedures respectively.\n",
    "\n",
    "train_loss 和 scratch_train_loss 都是 ndarray, 通过 `np.zeros(num)` 定义的。"
   ]
  },
  {
   "cell_type": "code",
   "execution_count": 9,
   "metadata": {
    "collapsed": false,
    "scrolled": false
   },
   "outputs": [
    {
     "name": "stdout",
     "output_type": "stream",
     "text": [
      "<type 'numpy.ndarray'>\n"
     ]
    },
    {
     "data": {
      "text/plain": [
       "[<matplotlib.lines.Line2D at 0x7fd0b009bf50>,\n",
       " <matplotlib.lines.Line2D at 0x7fd0b0029210>]"
      ]
     },
     "execution_count": 9,
     "metadata": {},
     "output_type": "execute_result"
    },
    {
     "data": {
      "image/png": "[encoded data removed]",
      "text/plain": [
       "<matplotlib.figure.Figure at 0x7fd0e76fea50>"
      ]
     },
     "metadata": {},
     "output_type": "display_data"
    }
   ],
   "source": [
    "print type(train_loss)\n",
    "plot(np.vstack([train_loss, scratch_train_loss]).T)"
   ]
  },
  {
   "cell_type": "markdown",
   "metadata": {},
   "source": [
    "Notice how the fine-tuning procedure produces a more smooth loss function change, and ends up at a better loss. A closer look at small values, clipping to avoid showing too large loss during training:"
   ]
  },
  {
   "cell_type": "code",
   "execution_count": 6,
   "metadata": {
    "collapsed": false
   },
   "outputs": [
    {
     "data": {
      "text/plain": [
       "[<matplotlib.lines.Line2D at 0x7fd0b015e0d0>,\n",
       " <matplotlib.lines.Line2D at 0x7fd0b015e350>]"
      ]
     },
     "execution_count": 6,
     "metadata": {},
     "output_type": "execute_result"
    },
    {
     "data": {
      "image/png": "[encoded data removed]",
      "text/plain": [
       "<matplotlib.figure.Figure at 0x7fd124220910>"
      ]
     },
     "metadata": {},
     "output_type": "display_data"
    }
   ],
   "source": [
    "plot(np.vstack([train_loss, scratch_train_loss]).clip(0, 4).T)"
   ]
  },
  {
   "cell_type": "markdown",
   "metadata": {},
   "source": [
    "Let's take a look at the testing accuracy after running 200 iterations. Note that we are running a classification task of 5 classes, thus a chance accuracy is 20%. As we will reasonably expect, the finetuning result will be much better than the one from training from scratch. Let's see."
   ]
  },
  {
   "cell_type": "code",
   "execution_count": 7,
   "metadata": {
    "collapsed": false
   },
   "outputs": [
    {
     "name": "stdout",
     "output_type": "stream",
     "text": [
      "Accuracy for fine-tuning: 0.584000003338\n",
      "Accuracy for training from scratch: 0.218000002205\n"
     ]
    }
   ],
   "source": [
    "test_iters = 10\n",
    "accuracy = 0\n",
    "scratch_accuracy = 0\n",
    "for it in arange(test_iters):\n",
    "    solver.test_nets[0].forward()\n",
    "    accuracy += solver.test_nets[0].blobs['accuracy'].data\n",
    "    scratch_solver.test_nets[0].forward()\n",
    "    scratch_accuracy += scratch_solver.test_nets[0].blobs['accuracy'].data\n",
    "accuracy /= test_iters\n",
    "scratch_accuracy /= test_iters\n",
    "print 'Accuracy for fine-tuning:', accuracy\n",
    "print 'Accuracy for training from scratch:', scratch_accuracy"
   ]
  },
  {
   "cell_type": "markdown",
   "metadata": {},
   "source": [
    "Huzzah! So we did finetuning and it is awesome. Let's take a look at what kind of results we are able to get with a longer, more complete run of the style recognition dataset. Note: the below URL might be occassionally down because it is run on a research machine.\n",
    "\n",
    "http://demo.vislab.berkeleyvision.org/"
   ]
  }
 ],
 "metadata": {
  "description": "Fine-tune the ImageNet-trained CaffeNet on new data.",
  "example_name": "Fine-tuning for Style Recognition",
  "include_in_docs": true,
  "kernelspec": {
   "display_name": "Python 2",
   "language": "python",
   "name": "python2"
  },
  "language_info": {
   "codemirror_mode": {
    "name": "ipython",
    "version": 2
   },
   "file_extension": ".py",
   "mimetype": "text/x-python",
   "name": "python",
   "nbconvert_exporter": "python",
   "pygments_lexer": "ipython2",
   "version": "2.7.6"
  },
  "priority": 4
 },
 "nbformat": 4,
 "nbformat_minor": 0
}
